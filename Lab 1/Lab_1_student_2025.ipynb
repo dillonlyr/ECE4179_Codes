{
 "cells": [
  {
   "cell_type": "markdown",
   "metadata": {},
   "source": [
    "<div class=\"alert alert-block alert-warning\">\n",
    "\n",
    "# <p style=\"text-align: center;\">Lab 1: Python Basics</p>\n",
    "<div style=\"text-align: center;\">\n",
    "<img src=\"https://upload.wikimedia.org/wikipedia/commons/c/c3/Python-logo-notext.svg\" width=\"150\" height=\"150\" />\n",
    "</div>\n",
    "\n",
    "Welcome to your very first lab of ECE4179. Labs in this unit will run as a help desk and they are not mandatory to attend.   \n",
    "\n",
    "This notebook contains all the code and comments that you need to submit. Here are the instructions to complete this lab:\n",
    "\n",
    "- This notebook is to be done alongside '**Lab 1 Quiz**' in Moodle. Your grade is based on notebook completion and quiz attempt.\n",
    "- After completing the quiz, submit this notebook to Moodle under '**Lab 1 Submission**'.\n",
    "- The quiz has no time limit (until deadline), but only 1 attempt. Quiz will not be re-opened.\n",
    "- If the notebook is not submitted, no marks will be given for the lab.\n",
    "- IMPORTANT: Some parts of the notebook will be auto-graded, therefore please do not edit/rename the already-given variable/function/class names.\n",
    "        \n",
    "This lab has four tasks. The first two tasks test your basic python knowledge and the applications of numpy and matplotlib libraries. The last two tasks, you will apply the knowledge you gained so far to solve practical problems.\n",
    "\n",
    "- [Task 1: Python basics](#python-basics)\n",
    "- [Task 2: Data Analysis and Visualization](#data-analysis-and-visualization)  \n",
    "- [Task 3: Wanna play Darts?](#wanna-play-darts)\n",
    "- [Task 4: Thinking inside the Ball!](#thinking-inside-the-ball)"
   ]
  },
  {
   "cell_type": "code",
   "execution_count": 148,
   "metadata": {},
   "outputs": [],
   "source": [
    "# Libraries, you do not need to import any additional libraries for this lab\n",
    "\n",
    "import numpy as np ## Numpy is the fundamental building block of managing tensor (matrices/arrays) within Python\n",
    "import matplotlib.pyplot as plt ## Matplotlib.pyplot is the graphing library that we will be using throughout the semester\n",
    "from scipy.special import gamma # For the last task"
   ]
  },
  {
   "cell_type": "markdown",
   "metadata": {},
   "source": [
    "<div class=\"alert alert-block alert-info\">\n",
    "\n",
    "## Task 1 - Python basics <a class=\"anchor\" id=\"python-basics\"></a>\n",
    "This task will test your knowledge under five topics: Data types, Conditional statements, Loops, Functions, and Classes.\n",
    "\n",
    "### Learning Outcome\n",
    "By the end of this task, you will\n",
    "- understand and utilize data types\n",
    "- write conditional statements to make decisions in their code\n",
    "- implement loops for repetitive tasks\n",
    "- define and use functions for code reusability\n",
    "- grasp the basics of object-oriented programming by creating and utilizing classes"
   ]
  },
  {
   "cell_type": "markdown",
   "metadata": {},
   "source": [
    "<div class=\"alert alert-block alert-info\">\n",
    "\n",
    "### 1.1  Data types <a class=\"anchor\" id=\"data-types\"></a>\n",
    "\n",
    "Python supports various data types such as number, string, list, dictionary, tuple, and more, providing flexibility and versatility for data manipulation and analysis."
   ]
  },
  {
   "cell_type": "markdown",
   "metadata": {},
   "source": [
    "#### (a) Create two lists named list_a and list_b with the values given in the Question 1 in the lab 1 quiz."
   ]
  },
  {
   "cell_type": "code",
   "execution_count": 149,
   "metadata": {},
   "outputs": [],
   "source": [
    "list_a = [3,6,9,12,15,18,21,24,27,30] ##  list_a\n",
    "list_b = ['1 2 3',4,5,6] ##  list_b"
   ]
  },
  {
   "cell_type": "markdown",
   "metadata": {},
   "source": [
    "Do the following:\n",
    "- Append list_b to the end of the list_a\n",
    "- Extend new version of list_a with list_b.\n",
    "- Print the length of final version of list_a.\n",
    "\n",
    "You will find that the append method is useful in later labs as it allows you to append results at computation time."
   ]
  },
  {
   "cell_type": "code",
   "execution_count": 150,
   "metadata": {},
   "outputs": [
    {
     "name": "stdout",
     "output_type": "stream",
     "text": [
      "[3, 6, 9, 12, 15, 18, 21, 24, 27, 30, ['1 2 3', 4, 5, 6]]\n",
      "[3, 6, 9, 12, 15, 18, 21, 24, 27, 30, ['1 2 3', 4, 5, 6], '1 2 3', 4, 5, 6]\n",
      "Length of list is 15\n"
     ]
    }
   ],
   "source": [
    "# T1.1a IMPORTANT: Please do not edit/remove this comment.\n",
    "\n",
    "list_a.append(list_b) ## Append list_b to your list_a\n",
    "print(list_a)\n",
    "list_a.extend(list_b) ## then extend the result with list_b\n",
    "print(list_a)\n",
    "print(f\"Length of list is {len(list_a)}\")"
   ]
  },
  {
   "cell_type": "markdown",
   "metadata": {},
   "source": [
    "#### (b) Create a dictionary with the following mappings.\n",
    "- 'Unit' : 4179\n",
    "- 'Session': 'Lab 1'\n",
    "- 'Date': 'July 20, 2023'\n",
    "- 'Pass' : 50,\n",
    "- 'Students': ['Jim', 'Gary', 'Hon']\n",
    "- 'Achieved' : [60.22, 40.5, 30.93]\n",
    "\n",
    "'Achieved' and 'Students' are two keys in the dictionary that show the list of students and the score they achieved in Lab 1.\n",
    "\n",
    "Please do the following:\n",
    "- Add your name to the value list of the 'Students'\n",
    "- Append a score of 100 in the value 'Achieved' key.\n",
    "- Add a new key to the dictionary named 'Required' which shows how many more scores each student need to earn in order to pass Lab 1.\n",
    "- Obtain all the keys using .keys() method and print it out as a list.\n",
    "- Obtain all the values using .values() method and print it out as a list.\n",
    "\n",
    "Dictionaries are a good way to store information with a key that is easily accessible. This can become useful when you want to store learnt parameters of a model, and the hyper parameters used to train a model."
   ]
  },
  {
   "cell_type": "code",
   "execution_count": 151,
   "metadata": {},
   "outputs": [
    {
     "name": "stdout",
     "output_type": "stream",
     "text": [
      "{'Unit': 4179, 'Session': 'Lab 1', 'Date': 'July 20, 2023', 'Pass': 50, 'Student': ['Jim', 'Gary', 'Hon', 'Dillon'], 'Achieved': [69.22, 40.5, 30.93, 100], 'Required': [0, 9.5, 19.07, 0]}\n",
      "dict_keys(['Unit', 'Session', 'Date', 'Pass', 'Student', 'Achieved', 'Required'])\n",
      "dict_values([4179, 'Lab 1', 'July 20, 2023', 50, ['Jim', 'Gary', 'Hon', 'Dillon'], [69.22, 40.5, 30.93, 100], [0, 9.5, 19.07, 0]])\n"
     ]
    }
   ],
   "source": [
    "# T1.1b IMPORTANT: Please do not edit/remove this comment.\n",
    "\n",
    "my_dict = {\n",
    "    'Unit' : 4179,\n",
    "    'Session' : 'Lab 1',\n",
    "    'Date' : 'July 20, 2023',\n",
    "    'Pass' : 50,\n",
    "    'Student' : ['Jim','Gary','Hon'],\n",
    "    'Achieved' : [69.22, 40.5, 30.93]\n",
    "}\n",
    "\n",
    "# Add your name to 'Students' key\n",
    "my_dict['Student'].append('Dillon')\n",
    " \n",
    "# Add your score of 100 to 'Achieved' key\n",
    "my_dict['Achieved'].append(100)\n",
    "\n",
    "# Add a new key to dictionary called 'Required' calculating how many points\n",
    "# each students need to pass the lab \n",
    "my_dict['Required'] = [my_dict['Pass'] - i if i < 50 else 0 for i in my_dict['Achieved']]\n",
    "print(my_dict)\n",
    "\n",
    "print(my_dict.keys())\n",
    "print(my_dict.values())"
   ]
  },
  {
   "cell_type": "markdown",
   "metadata": {},
   "source": [
    "<div class=\"alert alert-block alert-info\">\n",
    "\n",
    "### 1.2 Conditional statements <a class=\"anchor\" id=\"conditional-statements\"></a>\n",
    "\n",
    "Conditional statements in Python allow for the execution of different code blocks based on specified conditions, enabling the creation of decision-making logic within a program. \n",
    "    \n",
    "In Python, you need to use identation to specify the scope of conditional statements. It is highly recommended you use _tab_ for identation, rather than spaces, as it will format your code much nicer and become more readable. This would also give you less change to make mistakes."
   ]
  },
  {
   "cell_type": "markdown",
   "metadata": {},
   "source": [
    "#### (a) Code an IF statement to check how many elements from the prime_list divide the number"
   ]
  },
  {
   "cell_type": "code",
   "execution_count": 152,
   "metadata": {},
   "outputs": [
    {
     "name": "stdout",
     "output_type": "stream",
     "text": [
      "1\n"
     ]
    }
   ],
   "source": [
    "# T1.2a IMPORTANT: Please do not edit/remove this comment.\n",
    "\n",
    "number = 792732       # number\n",
    "prime_list = [11,13,17,19,23,29,31]  # prime_list\n",
    "\n",
    "# Check how many elements from prime_list divide the number\n",
    "count = 0\n",
    "for i in prime_list:\n",
    "    if number % i == 0:\n",
    "        count += 1\n",
    "print(f\"{count}\")\n"
   ]
  },
  {
   "cell_type": "markdown",
   "metadata": {},
   "source": [
    "#### (b) Fill out the missing parts in the code to get “True” after each IF statement.\n",
    "You may find the function _type_ to be useful. Remember, checking data types is useful in helping you debug for niche cases (such as applying operations on mismatching data types ). See here for documentation about _type_:\n",
    "\n",
    "https://www.programiz.com/python-programming/methods/built-in/type"
   ]
  },
  {
   "cell_type": "code",
   "execution_count": null,
   "metadata": {},
   "outputs": [
    {
     "name": "stdout",
     "output_type": "stream",
     "text": [
      "True True True\n"
     ]
    }
   ],
   "source": [
    "# T1.2b IMPORTANT: Please do not edit/remove this comment.\n",
    "\n",
    "b_1 = 2\n",
    "b_2 = (1,2)\n",
    "b_3 = '1,4'\n",
    "\n",
    "print(type(b_1) == int, type(b_2) == tuple, type(b_3) == str) \n",
    "# Check if all statements are True"
   ]
  },
  {
   "cell_type": "markdown",
   "metadata": {},
   "source": [
    "#### (c)  Write an IF statement to check whether a year is a leap year.\n",
    "\n",
    "__Note: If the year is divisible by 4 and not divisible by 100, or if it is divisible by 400, then it is a leap year__"
   ]
  },
  {
   "cell_type": "code",
   "execution_count": 154,
   "metadata": {},
   "outputs": [
    {
     "name": "stdout",
     "output_type": "stream",
     "text": [
      "The year 3232 is a leap year\n",
      "The year 1600 is a leap year\n",
      "The year 4234 is not a leap year\n",
      "The year 2466 is not a leap year\n",
      "The year 5100 is not a leap year\n"
     ]
    }
   ],
   "source": [
    "# T1.2c IMPORTANT: Please do not edit/remove this comment.\n",
    "\n",
    "years = [3232, 1600, 4234, 2466, 5100]\n",
    "\n",
    "for year in years:\n",
    "    if year % 4 == 0 and year % 100 != 0 or year % 400 == 0:\n",
    "\n",
    "        print(f\"The year {year} is a leap year\")\n",
    "    # elif years:\n",
    "        \n",
    "        # print(f\"The year {year} is a leap year\") \n",
    "    else:\n",
    "        \n",
    "        print(f\"The year {year} is not a leap year\") "
   ]
  },
  {
   "cell_type": "markdown",
   "metadata": {},
   "source": [
    "<div class=\"alert alert-block alert-info\">\n",
    "\n",
    "### 1.3 Loops <a class=\"anchor\" id=\"loops\"></a>\n",
    "\n",
    "Python loops allow for the repetition of a block of code multiple times, making it efficient and convenient to perform iterative tasks or iterate over collections of data. Remember, indexing starts from 0! \n",
    "    \n",
    "In Python, you need to use identation to specify the scope of loops. It is highly recommended you use _tab_ for identation, rather than spaces, as it will format your code much nicer and become more readable, and give you less chance to make indentation mistakes."
   ]
  },
  {
   "cell_type": "markdown",
   "metadata": {},
   "source": [
    "#### (a) Print out the numbers from n_1 to n_2 (both inclusive) using a for loop.\n",
    "\n",
    "You may find the _range_ function helpful. \n",
    "\n",
    "https://www.programiz.com/python-programming/methods/built-in/range"
   ]
  },
  {
   "cell_type": "code",
   "execution_count": 155,
   "metadata": {},
   "outputs": [
    {
     "name": "stdout",
     "output_type": "stream",
     "text": [
      "1\n",
      "2\n",
      "3\n",
      "4\n",
      "5\n",
      "6\n",
      "7\n",
      "8\n",
      "9\n",
      "10\n"
     ]
    }
   ],
   "source": [
    "# T1.3a IMPORTANT: Please do not edit/remove this comment.\n",
    "\n",
    "n_1 = 1  #Initialize n_1\n",
    "n_2 = 10 #Initialize n_2\n",
    "for num in range(n_1,n_2+1): ## Print out the numbers from n_1 to n_2 (inclusive)\n",
    "    print(num)"
   ]
  },
  {
   "cell_type": "markdown",
   "metadata": {},
   "source": [
    "#### (b) For the numbers between b_1 and b_2 (include b_1, exclude b_2) given in the quiz question, print out how many numbers that are divisible by b_3.\n",
    "\n",
    "Remember, you need identations for each loop and each conditional statement"
   ]
  },
  {
   "cell_type": "code",
   "execution_count": 156,
   "metadata": {},
   "outputs": [
    {
     "name": "stdout",
     "output_type": "stream",
     "text": [
      "94\n"
     ]
    }
   ],
   "source": [
    "# T1.3b IMPORTANT: Please do not edit/remove this comment.\n",
    "\n",
    "b_1 = 32\n",
    "b_2 = 690\n",
    "b_3 = 7\n",
    "\n",
    "# for loop\n",
    "div_count = 0\n",
    "for i in range(b_1, b_2+1):\n",
    "    if i % b_3 == 0:\n",
    "        div_count += 1\n",
    "\n",
    "print(f\"{div_count}\")"
   ]
  },
  {
   "cell_type": "markdown",
   "metadata": {},
   "source": [
    "#### (c) For a given student ID, keep dividing by 4 until it is a value lower than 10. Print out the final value.\n",
    "\n",
    "_Hint: Use a while loop here_"
   ]
  },
  {
   "cell_type": "code",
   "execution_count": 157,
   "metadata": {},
   "outputs": [
    {
     "name": "stdout",
     "output_type": "stream",
     "text": [
      "6.5338263511657715\n"
     ]
    }
   ],
   "source": [
    "# T1.3c IMPORTANT: Please do not edit/remove this comment.\n",
    "\n",
    "student_number = 27404854\n",
    "\n",
    "## Complete the task specified above\n",
    "while (student_number > 10):\n",
    "    # print(student_number / 4)\n",
    "    student_number = student_number / 4\n",
    "print(student_number)"
   ]
  },
  {
   "cell_type": "markdown",
   "metadata": {},
   "source": [
    "<div class=\"alert alert-block alert-info\">\n",
    "\n",
    "### 1.4 Functions <a class=\"anchor\" id=\"functions\"></a>\n",
    "    \n",
    "Python functions provide a way to encapsulate reusable blocks of code, allowing for modular and organized programming, and facilitating code reuse and readability. Always lay out the function with comments and useful variable names."
   ]
  },
  {
   "cell_type": "markdown",
   "metadata": {},
   "source": [
    "#### (a) Write a function that find the hypotenuse of a right triangle.\n",
    "\n",
    "Please use the values provided in the quiz question."
   ]
  },
  {
   "cell_type": "code",
   "execution_count": 158,
   "metadata": {},
   "outputs": [
    {
     "name": "stdout",
     "output_type": "stream",
     "text": [
      "41.67186580896037\n"
     ]
    }
   ],
   "source": [
    "# T1.4a IMPORTANT: Please do not edit/remove this comment.\n",
    "\n",
    "def compute_hypotenuse(side_1, side_2):\n",
    "    \n",
    "    # Inputs:\n",
    "    # side1 - the input argument for one side of the triangle\n",
    "    # side2 - the input argument for another side of the triangle\n",
    "    \n",
    "    # Outputs:\n",
    "    # hypotenuse - the calculated output from side1 and side2\n",
    "    \n",
    "    hypotenuse = np.sqrt(side_1**2 + side_2**2)\n",
    "    \n",
    "    return hypotenuse \n",
    "\n",
    "side_1 = 38.1\n",
    "side_2 = 16.88\n",
    "out = compute_hypotenuse(side_1, side_2)\n",
    "print(out)"
   ]
  },
  {
   "cell_type": "markdown",
   "metadata": {},
   "source": [
    "#### (b) Write a function that computes the factorial of a given number (without using any built-in function). \n",
    "E.g. factorial_fn(5) → output: 120\n",
    "\n",
    "Please use the last two digits of your student ID as inputs."
   ]
  },
  {
   "cell_type": "code",
   "execution_count": 159,
   "metadata": {},
   "outputs": [
    {
     "name": "stdout",
     "output_type": "stream",
     "text": [
      "4274883284060025564298013753389399649690343788366813724672000000000000\n"
     ]
    }
   ],
   "source": [
    "# T1.4b IMPORTANT: Please do not edit/remove this comment.\n",
    "\n",
    "def factorial_fn(number): \n",
    "    \n",
    "    # Input argument(s):\n",
    "    # number - the factorial we are trying to find\n",
    "    \n",
    "    # Output:\n",
    "    # result - the factorial result of the number\n",
    "    \n",
    "    result = 1 # Initialize result to 1\n",
    "    while(True):\n",
    "        \n",
    "        result = result * number\n",
    "        number = number - 1\n",
    "\n",
    "        if number == 0:\n",
    "            break\n",
    "\n",
    "    return result # return result here\n",
    "\n",
    "\n",
    "number = 53\n",
    "print(factorial_fn(number))"
   ]
  },
  {
   "cell_type": "markdown",
   "metadata": {},
   "source": [
    "<div class=\"alert alert-block alert-info\">\n",
    "\n",
    "### 1.5 Classes <a class=\"anchor\" id=\"classes\"></a>\n",
    "    \n",
    "Python classes are a fundamental component of object-oriented programming in Python, allowing developers to define blueprints for creating objects with their own attributes and behaviors."
   ]
  },
  {
   "cell_type": "markdown",
   "metadata": {},
   "source": [
    "##### Please complete the following:\n",
    "1. Write a Python class **Student** with attributes student_name, student_id, and lab_day, lab1_marks.\n",
    "2. In the same class, add method 'assign_lab_day' to change the allocated lab day of the student to given weekday.\n",
    "3. In the same class, add method 'print_student_details' to print the details (related attributes) of a student.\n",
    "4. In the same class, add method 'calculate_lab1_marks' that takes two arguments:\n",
    "   - No. of questions correctly answered\n",
    "   - Marks allocated per question\n",
    "5. Computes the lab1 marks by using the formula:\n",
    "\n",
    "lab1_marks = (No. of questions correctly answered) $\\times$ (Marks allocated per question)"
   ]
  },
  {
   "cell_type": "code",
   "execution_count": 160,
   "metadata": {},
   "outputs": [],
   "source": [
    "# T1.5 IMPORTANT: Please do not edit/remove this comment.\n",
    "\n",
    "class Student:\n",
    "    def __init__(self, student_name, student_id, lab_day, lab1_marks):\n",
    "        # Save the object's attributes\n",
    "        self.student_name = student_name\n",
    "        self.student_id = student_id\n",
    "        self.lab_day = lab_day\n",
    "        self.lab1_marks = lab1_marks\n",
    "        \n",
    "    def assign_lab_day(self, stud_lab_day):\n",
    "        # Reassign the lab day\n",
    "        self.lab_day = stud_lab_day\n",
    "        \n",
    "    def print_student_details(self):\n",
    "        ## Method for printing all the student details, format it nicely\n",
    "        print(\"----------------------\")\n",
    "        print(f\"Student Name: {self.student_name}\")\n",
    "        print(f\"Student ID: {self.student_id}\")\n",
    "        print(f\"Lab Day: {self.lab_day}\")\n",
    "        print(f\"Lab 1 Marks: {self.lab1_marks}\")\n",
    "        print(\"----------------------\")\n",
    "        \n",
    "    def calculate_lab1_marks(self, num_questions, marks_per_ques):\n",
    "        # Recalculation of lab 1 marks\n",
    "        self.lab1_marks = num_questions * marks_per_ques"
   ]
  },
  {
   "cell_type": "markdown",
   "metadata": {},
   "source": [
    "##### Now create an instance of this class using following data.\n",
    "- Name: your first name\n",
    "- Student ID:  your student  ID\n",
    "- Lab day:  allocated day of the week \n",
    "- Lab 1 marks: your expected score for this lab (out of 100)\n",
    "\n",
    "Then print the details of the students using the ```print_student_details()``` method.\n"
   ]
  },
  {
   "cell_type": "code",
   "execution_count": 161,
   "metadata": {},
   "outputs": [
    {
     "name": "stdout",
     "output_type": "stream",
     "text": [
      "----------------------\n",
      "Student Name: Dillon\n",
      "Student ID: 33455953\n",
      "Lab Day: Thursday\n",
      "Lab 1 Marks: 100\n",
      "----------------------\n"
     ]
    }
   ],
   "source": [
    "student = Student('Dillon', 33455953, 'Thursday', 100)\n",
    "student.print_student_details() # Call the print method"
   ]
  },
  {
   "cell_type": "markdown",
   "metadata": {},
   "source": [
    "Now do the following:\n",
    "- Switch the lab day using ```assign_lab_day``` method to \"Monday\".\n",
    "- The student had answered 3 questions correctly and each question carries 25 marks, ammend the lab1 marks of the student using the ```calculate_lab1_marks``` method.\n",
    "- Reprint the students details."
   ]
  },
  {
   "cell_type": "code",
   "execution_count": 162,
   "metadata": {},
   "outputs": [
    {
     "name": "stdout",
     "output_type": "stream",
     "text": [
      "----------------------\n",
      "Student Name: Dillon\n",
      "Student ID: 33455953\n",
      "Lab Day: Monday\n",
      "Lab 1 Marks: 75\n",
      "----------------------\n"
     ]
    }
   ],
   "source": [
    "student.assign_lab_day('Monday')  ## Reassign lab\n",
    "student.calculate_lab1_marks(3,25)  ## Calculate marks based off what they achieved\n",
    "student.print_student_details() # Call the print method"
   ]
  },
  {
   "cell_type": "markdown",
   "metadata": {},
   "source": [
    "<div class=\"alert alert-block alert-info\">\n",
    "\n",
    "## Task 2 - Data Analysis and Visualization <a class=\"anchor\" id=\"data-analysis-and-visualization\"></a>\n",
    "\n",
    "Deep learning thrives on the synergy of data analysis and visualization, empowering us to unveil intricate patterns, extract meaningful features, and gain profound insights from complex datasets. This task will test your knowledge of two main python libraries, `numpy` and `matplotlib`, that we often use for data analysis and visualization:\n",
    "\n",
    "### Learning Outcome\n",
    "By the end of this task, you will\n",
    "- perform numerical computations and process datasets with Numpy\n",
    "- employing Matplotlib to create a variety of static and interactive visualizations"
   ]
  },
  {
   "cell_type": "markdown",
   "metadata": {},
   "source": [
    "<div class=\"alert alert-block alert-info\">\n",
    "\n",
    "### 2.1 Numpy <a class=\"anchor\" id=\"numpy\"></a>\n",
    "\n",
    "<img src=\"https://seeklogo.com/images/N/numpy-logo-479C24EC79-seeklogo.com.png\" width=\"75\" height=\"75\" /> \n",
    "    \n",
    "NumPy is a powerful Python library that stands for Numerical Python. It provides efficient numerical operations on large arrays and matrices of data, along with a vast collection of mathematical functions. With NumPy, users can perform array manipulation, mathematical computations, linear algebra operations, random number generation, and much more, making it a fundamental tool for scientific computing and data analysis in Python. In this task, we will be performing manipulations on numpy arrays and understanding how they interact with one another."
   ]
  },
  {
   "cell_type": "markdown",
   "metadata": {},
   "source": [
    "#### (a) Initialize python list, then convert it to a numpy array and print it out.\n",
    "\n",
    "You may find the following numpy function useful:\n",
    "- _array_\n",
    "\n",
    "Numpy documentation can be found here: https://numpy.org/doc/"
   ]
  },
  {
   "cell_type": "code",
   "execution_count": 163,
   "metadata": {},
   "outputs": [
    {
     "name": "stdout",
     "output_type": "stream",
     "text": [
      "[90.    2.    3.14 13.  ]\n"
     ]
    }
   ],
   "source": [
    "# T2.1a IMPORTANT: Please do not edit/remove this comment.\n",
    "\n",
    "my_list = [7, 9, 90, 2, 3.14, 13.0, 0.005, 5.2] ## my_list\n",
    "required_array = np.array(my_list)[2:6] ## Select proper index range of the array\n",
    "print(required_array)"
   ]
  },
  {
   "cell_type": "markdown",
   "metadata": {},
   "source": [
    "#### (b) create and identity matrix, zero matrix, and a ones matrix of required size. Add them all together and print the final result.\n",
    "\n",
    "You may find the following numpy functions useful:\n",
    "\n",
    "- _eye_\n",
    "- _zeros_\n",
    "- _ones_"
   ]
  },
  {
   "cell_type": "code",
   "execution_count": 164,
   "metadata": {},
   "outputs": [
    {
     "name": "stdout",
     "output_type": "stream",
     "text": [
      "[[ 0. -1.]\n",
      " [-1.  0.]\n",
      " [-1. -1.]]\n"
     ]
    }
   ],
   "source": [
    "# T2.1b IMPORTANT: Please do not edit/remove this comment.\n",
    "\n",
    "identity = np.eye(3,2)\n",
    "# print(identity)\n",
    "zeros = np.zeros((3,2))\n",
    "# print(zeros)\n",
    "ones = np.ones((3,2))\n",
    "# print(ones)\n",
    "\n",
    "result = identity + zeros - ones  ## Final result\n",
    "print(result)"
   ]
  },
  {
   "cell_type": "markdown",
   "metadata": {},
   "source": [
    "#### (c) Create a numpy array with values ranging from c_1 to c_2  then reshape it to create the given matrix.\n",
    "\n",
    "You may find the following numpy functions useful:\n",
    "- _arange_\n",
    "- _reshape_\n",
    "\n",
    "Now, you might be thinking what is the purpose of reshape? Later on in the semester, this will become a useful tool in being able to reshape our data so it fits the neural network. For example, when we pass in a 2D image, and want to perform some classification at the end, we need to be able to __reshape__ the tensor so it becomes 1-dimensional to get the class probabilities ! "
   ]
  },
  {
   "cell_type": "code",
   "execution_count": 165,
   "metadata": {},
   "outputs": [
    {
     "name": "stdout",
     "output_type": "stream",
     "text": [
      "[[ 1  2  3  4  5]\n",
      " [ 6  7  8  9 10]\n",
      " [11 12 13 14 15]\n",
      " [16 17 18 19 20]\n",
      " [21 22 23 24 25]\n",
      " [26 27 28 29 30]]\n"
     ]
    }
   ],
   "source": [
    "# T2.1c IMPORTANT: Please do not edit/remove this comment.\n",
    "\n",
    "c_1 = 1\n",
    "c_2 = 30\n",
    "x = np.arange(c_1, c_2 + 1) ## Create the initial numpy array\n",
    "y = x.reshape(6, 5) ## Reshape the array\n",
    "print(y)"
   ]
  },
  {
   "cell_type": "markdown",
   "metadata": {},
   "source": [
    "#### (d) The marks of students are in the given list. Create the grade vector of the students\n",
    "- If mark $>$ 50 → grade \"A\"\n",
    "- If mark $\\leq $ 50 → grade \"B\"\n",
    "\n",
    "The function you'll use would be useful when you want to search for particular conditions within a numpy_array, perhaps using it as a threshold in classification"
   ]
  },
  {
   "cell_type": "code",
   "execution_count": 166,
   "metadata": {},
   "outputs": [
    {
     "name": "stdout",
     "output_type": "stream",
     "text": [
      "['B' 'A' 'A' 'B' 'A' 'A' 'B']\n"
     ]
    }
   ],
   "source": [
    "# T2.1d IMPORTANT: Please do not edit/remove this comment.\n",
    "\n",
    "marks_list = [48, 72, 85, 12, 74, 90, 23] \n",
    "marks = np.array(marks_list) ## Numpy array created from the list\n",
    "status = np.where( marks>50 ,'A','B') ## Using the numpy function to classify the grades\n",
    "print(status)"
   ]
  },
  {
   "cell_type": "markdown",
   "metadata": {},
   "source": [
    "#### (e) Create a 6x6 matrix and fill it with a checkerboard pattern.\n",
    "Note that explicitly writing the elements of the matrix is not allowed, instead you need to use numpy functions in a smart way to create this matrix. Your output should look like below.      \n",
    "Note: you may want to use a unique variable name to store this matrix since you will need to reuse it in Section 2.2(e).\n",
    "\n",
    "[[0 1 0 1 0 1]                                                      \n",
    " [1 0 1 0 1 0]                                                      \n",
    " [0 1 0 1 0 1]                                                      \n",
    " [1 0 1 0 1 0]                                                      \n",
    " [0 1 0 1 0 1]                                                      \n",
    " [1 0 1 0 1 0]]"
   ]
  },
  {
   "cell_type": "code",
   "execution_count": 167,
   "metadata": {},
   "outputs": [
    {
     "name": "stdout",
     "output_type": "stream",
     "text": [
      "[[0 1 0 1 0 1]\n",
      " [1 0 1 0 1 0]\n",
      " [0 1 0 1 0 1]\n",
      " [1 0 1 0 1 0]\n",
      " [0 1 0 1 0 1]\n",
      " [1 0 1 0 1 0]]\n"
     ]
    }
   ],
   "source": [
    "# T2.1e IMPORTANT: Please do not edit/remove this comment.\n",
    "\n",
    "# Your code to generate the checkerboard pattern\n",
    "\n",
    "#? option A\n",
    "checkerboard = np.array([[(i + j) % 2 for j in range(6)] for i in range(6)])\n",
    "\n",
    "# ? option B\n",
    "# row = np.array([0,1]*3)\n",
    "# col = np.array([1,0]*3)\n",
    "# checkerboard = (row + col.reshape(6,1)) % 2\n",
    "\n",
    "#? option C\n",
    "# checkerboard = np.zeros((6,6))\n",
    "# checkerboard[1::,::2] = 1\n",
    "# checkerboard[::2,1::] = 1\n",
    "\n",
    "#? option D\n",
    "# block = np.array([[0,1,0,1,0,1]])\n",
    "# checkerboard = np.tile(block, (6,1))\n",
    "\n",
    "print(checkerboard)"
   ]
  },
  {
   "cell_type": "markdown",
   "metadata": {},
   "source": [
    "<div class=\"alert alert-block alert-success\">\n",
    "\n",
    "#### Reflection\n",
    "Look at the following code examples and comment on what is happening in the following cases\n"
   ]
  },
  {
   "cell_type": "code",
   "execution_count": 168,
   "metadata": {},
   "outputs": [
    {
     "name": "stdout",
     "output_type": "stream",
     "text": [
      "\n",
      "X: \n",
      "[[1. 0.]\n",
      " [0. 1.]]\n",
      "\n",
      "Y: \n",
      "[[2 5]\n",
      " [1 3]]\n",
      "\n",
      "case (a) \n",
      "[[3. 5.]\n",
      " [1. 4.]]\n",
      "\n",
      "case (b): \n",
      "[[3. 5.]\n",
      " [1. 4.]]\n",
      "\n",
      "case (c): \n",
      "[[2. 5.]\n",
      " [1. 3.]]\n",
      "\n",
      "case (d): \n",
      "[[2. 0.]\n",
      " [0. 3.]]\n",
      "\n",
      "case (e): \n",
      "[[ 4 25]\n",
      " [ 1  9]]\n",
      "\n",
      "case (f): \n",
      "[[ 9 25]\n",
      " [ 5 14]]\n"
     ]
    }
   ],
   "source": [
    "X = np.eye(2)\n",
    "Y = np.array([[2, 5], [1, 3]])\n",
    "\n",
    "print(f\"\\nX: \\n{X}\")\n",
    "print(f\"\\nY: \\n{Y}\")\n",
    "\n",
    "## case (i)\n",
    "addXY = np.add(X, Y)\n",
    "print(f\"\\ncase (a) \\n{addXY}\")\n",
    "## case (ii)\n",
    "addXY2 = X + Y\n",
    "print(f\"\\ncase (b): \\n{addXY2}\")\n",
    "## case (iii)\n",
    "multXY = np.matmul(X, Y)\n",
    "print(f\"\\ncase (c): \\n{multXY}\")\n",
    "## case (iv)\n",
    "multXY2 = X * Y\n",
    "print(f\"\\ncase (d): \\n{multXY2}\")\n",
    "## case (v)\n",
    "powY = Y**2\n",
    "print(f\"\\ncase (e): \\n{powY}\")\n",
    "## case (vi)\n",
    "powY2 = np.matmul(Y, Y)\n",
    "print(f\"\\ncase (f): \\n{powY2}\")"
   ]
  },
  {
   "cell_type": "markdown",
   "metadata": {},
   "source": [
    "<div class=\"alert alert-block alert-info\">\n",
    "\n",
    "### 2.2 Matplotlib <a class=\"anchor\" id=\"matplotlib\"></a>\n",
    "\n",
    "<img src=\"https://matplotlib.org/stable/_static/logo_dark.svg\" height=\"50\" />\n",
    "\n",
    "\n",
    "Matplotlib is a popular Python library used for creating visualizations and plots. It provides a wide range of plotting functions and options, allowing users to create line plots, scatter plots, bar plots, histograms, and many other types of charts. Matplotlib provides a flexible and customizable interface, enabling users to fine-tune their plots with various styling options, labels, titles, and annotations. With its intuitive API and extensive documentation, Matplotlib is widely used in data exploration, scientific research, and data visualization tasks in Python."
   ]
  },
  {
   "cell_type": "markdown",
   "metadata": {},
   "source": [
    "#### (a) Plot a noisy Parabola using a scatter plot:\n",
    "- Create x array using `np.linspace` between -2.5 and 2.5\n",
    "- Create an empty y array using `np.empty`, with the same shape as x\n",
    "- In a for-loop, calculate y values by computing x^2 and then add a random number from 0-1.\n",
    "- Plot y with respect to x using `plt.scatter`\n",
    "- Find the minimum of the y values and find the corresponding x value. Then annotate that point as \"minimum\" using plt.annotate (Use different color for clarity)\n",
    "- Make sure you add your x and y labels\n",
    "- Create a title for the plot, and add your name and student ID to the title\n",
    "- Play around with the colour and marker types"
   ]
  },
  {
   "cell_type": "code",
   "execution_count": 169,
   "metadata": {},
   "outputs": [
    {
     "data": {
      "image/png": "[encoded data removed]",
      "text/plain": [
       "<Figure size 640x480 with 1 Axes>"
      ]
     },
     "metadata": {},
     "output_type": "display_data"
    }
   ],
   "source": [
    "# T2.2a IMPORTANT: Please do not edit/remove this comment.\n",
    "\n",
    "# Initialise variables\n",
    "x_parab_values = np.linspace(-2.5, 2.5, 100)\n",
    "y_parab_values = np.empty(100)\n",
    "\n",
    "## Using for loop, compute the y-values based on the conditions specified\n",
    "for index , val in enumerate(x_parab_values):\n",
    "    # print(f'i = {index} , val = {val}')\n",
    "    y_parab_values[index] = val**2 + np.random.rand()\n",
    "    # y_parab_values[index] = val**2\n",
    "\n",
    "\n",
    "## Plot the parabola using plt.scatter\n",
    "plt.scatter(x_parab_values, y_parab_values)\n",
    "# plt.show()\n",
    "\n",
    "## Find minimum and annotate in the plot\n",
    "y_min = np.min(y_parab_values)\n",
    "y_max = np.max(y_parab_values)\n",
    "\n",
    "## Add Y-label, X-label, title\n",
    "plt.xlabel('X values')\n",
    "plt.ylabel('Y values')\n",
    "plt.title('Parabola with Random Noise')\n",
    "\n",
    "plt.show()"
   ]
  },
  {
   "cell_type": "markdown",
   "metadata": {},
   "source": [
    "#### (b) Plot the audio waveform of a bird chirping using a line plot:\n",
    "- Load the data in file \"data/birdy.npy\". It will load a numpy array of size (13129,2) in which the first column is the time indices and the second column is the amplitude values\n",
    "- Use plt.plot for plotting\n",
    "- x-axis should be the time index\n",
    "- y-axis should be the Amplitude\n",
    "- Make sure you add your x and y labels\n",
    "- Create a title for the plot, and add your name and student ID to the title"
   ]
  },
  {
   "cell_type": "code",
   "execution_count": 170,
   "metadata": {},
   "outputs": [
    {
     "data": {
      "image/png": "[encoded data removed]",
      "text/plain": [
       "<Figure size 640x480 with 1 Axes>"
      ]
     },
     "metadata": {},
     "output_type": "display_data"
    }
   ],
   "source": [
    "# T2.2b IMPORTANT: Please do not edit/remove this comment.\n",
    "\n",
    "bird_chirp = np.load('data/birdy.npy') ## load data\n",
    "t, Amp = bird_chirp[:,0], bird_chirp[:,1]  ## extract time indices and amplitude values\n",
    "\n",
    "## Add in plot\n",
    "plt.plot(t, Amp)\n",
    "\n",
    "# Y-label, X-label, title\n",
    "plt.xlabel('Time (s)')\n",
    "plt.ylabel('Amplitude')\n",
    "plt.title('Bird Chirp Data')\n",
    "plt.show()"
   ]
  },
  {
   "cell_type": "markdown",
   "metadata": {},
   "source": [
    "#### (c) Plot a distribution using a bar plot:\n",
    "- Use np.linspace to create 100 linearly spaced values for your x-axis from $\\left[-5, +5\\right]$\n",
    "- Calculate the PDF values using the normal distribution formula with mean 0 and variance 1\n",
    "- Use plt.bar for plotting. You may want to play with the \"width\" parameter to make it more attractive\n",
    "- Make sure you plot has appropriate axis labels and title\n",
    "\n",
    "For your convenience, the normal distribution is as follows:\n",
    "\n",
    "$$ f(x) = \\frac{1}{\\sigma \\sqrt{2\\pi}} e^{-\\frac{(x-\\mu)^2}{2\\sigma^2}}$$\n",
    "\n"
   ]
  },
  {
   "cell_type": "code",
   "execution_count": 171,
   "metadata": {},
   "outputs": [
    {
     "data": {
      "image/png": "[encoded data removed]",
      "text/plain": [
       "<Figure size 640x480 with 1 Axes>"
      ]
     },
     "metadata": {},
     "output_type": "display_data"
    }
   ],
   "source": [
    "# T2.2c IMPORTANT: Please do not edit/remove this comment.\n",
    "\n",
    "x = np.linspace(-5, 5, 100) ## Generate x-values\n",
    "mu = 0\n",
    "sigma = 1\n",
    "\n",
    "# x = np. ## Use linspace to generate x-values\n",
    "pdf =  1 / ((sigma * np.sqrt(2*np.pi)) * np.exp( (x-mu)**2 / 2 * (sigma**2) )) # Pass it through a normal distribution formula\n",
    "\n",
    "## Add bar plot with width parameter\n",
    "plt.bar(x, pdf, width=0.2)\n",
    "\n",
    "## Add Y-label, X-label, title\n",
    "plt.xlabel('X values')\n",
    "plt.ylabel('Probability Density')\n",
    "plt.title('Normal Distribution')\n",
    "\n",
    "plt.show()"
   ]
  },
  {
   "cell_type": "markdown",
   "metadata": {},
   "source": [
    "#### (d) Visualize a rotated checkerboard pattern using plt.imshow():\n",
    "- Use numpy array that you created in 2.1(e) and rotate it by 90 degrees\n",
    "- Visualize it using plt.imshow()\n",
    "- Make sure the image is black & white\n",
    "- get rid of the x and y-axis ticks\n",
    "- add a colorbar\n",
    "- Create a title for the plot\n",
    "\n",
    "_plt.imshow_ is a way to display 2D arrays/tensors which will be useful in visualizing images or any results. We will be using this throughout the course.\n",
    "\n",
    "_Hint: There is a rotation function within the numpy library that you could use_"
   ]
  },
  {
   "cell_type": "code",
   "execution_count": 172,
   "metadata": {},
   "outputs": [
    {
     "data": {
      "text/plain": [
       "Text(0.5, 1.0, 'Rotated Checkerboard Pattern')"
      ]
     },
     "execution_count": 172,
     "metadata": {},
     "output_type": "execute_result"
    },
    {
     "data": {
      "image/png": "[encoded data removed]",
      "text/plain": [
       "<Figure size 640x480 with 1 Axes>"
      ]
     },
     "metadata": {},
     "output_type": "display_data"
    }
   ],
   "source": [
    "# T2.2d IMPORTANT: Please do not edit/remove this comment.\n",
    "\n",
    "x_checkerboard_rot = np.rot90(checkerboard)\n",
    "# x_checkerboard_rot = checkerboard\n",
    "\n",
    "\n",
    "## Use imshow to visualize the checkerboard made in 2.1e. Remove axis ticks and add colorbar.\n",
    "plt.imshow(x_checkerboard_rot, cmap='gray')\n",
    "plt.axis('off') \n",
    "\n",
    "plt.title('Rotated Checkerboard Pattern')"
   ]
  },
  {
   "cell_type": "markdown",
   "metadata": {},
   "source": [
    "#### (e) Combine all the plots from (a) to (d) into a single plot using subplot\n",
    "- The plt.subplot() takes 3 arguments: rows, columns, and index of the current plots\n",
    "- Refer to this [page](https://www.w3schools.com/python/matplotlib_subplot.asp) for a better explanation and examples.\n",
    "- Reuse your plotting code in the previous parts to create a 2x2 subplots: First row plot (a) and (b), second row plot (c) and (d)\n",
    "- Each subplot should have its own xlabel, ylabel (except the checkerboard) and title.\n",
    "- Include a main title at the top for the whole plot using plt.suptitle. Put your name and student id."
   ]
  },
  {
   "cell_type": "code",
   "execution_count": 173,
   "metadata": {},
   "outputs": [
    {
     "data": {
      "image/png": "[encoded data removed]",
      "text/plain": [
       "<Figure size 1200x1000 with 4 Axes>"
      ]
     },
     "metadata": {},
     "output_type": "display_data"
    }
   ],
   "source": [
    "# T2.2e IMPORTANT: Please do not edit/remove this comment.\n",
    "\n",
    "plt.figure(figsize=(12,10)) # Adjust this number for the figure size if needed\n",
    "\n",
    "plt.subplot(2,2,1)\n",
    "plt.scatter(x_parab_values, y_parab_values)\n",
    "plt.xlabel('X values')\n",
    "plt.ylabel('Y values')\n",
    "plt.title('Parabola with Random Noise')\n",
    "            \n",
    "plt.subplot(2,2,2)\n",
    "plt.plot(t, Amp)\n",
    "plt.xlabel('Time (s)')\n",
    "plt.ylabel('Amplitude')\n",
    "plt.title('Bird Chirp Data')\n",
    "            \n",
    "plt.subplot(2,2,3)\n",
    "plt.bar(x, pdf, width=0.2)\n",
    "plt.xlabel('X values')\n",
    "plt.ylabel('Probability Density')\n",
    "plt.title('Normal Distribution')\n",
    "            \n",
    "plt.subplot(2,2,4)\n",
    "plt.imshow(x_checkerboard_rot, cmap='gray')\n",
    "plt.axis('off') \n",
    "plt.title('Rotated Checkerboard Pattern')\n",
    "\n",
    "plt.suptitle('Combined Plots')\n",
    "plt.tight_layout()\n",
    "plt.show()\n"
   ]
  },
  {
   "cell_type": "markdown",
   "metadata": {},
   "source": []
  },
  {
   "cell_type": "markdown",
   "metadata": {},
   "source": [
    "#### Interesting fact:\n",
    "\n",
    "Matplotlib provide its own script to generate the logo. You can [download the notebook or the python file here](https://matplotlib.org/stable/gallery/misc/logos2.html) to have a look."
   ]
  },
  {
   "cell_type": "markdown",
   "metadata": {},
   "source": [
    "<div class=\"alert alert-block alert-info\">\n",
    "\n",
    "# Task 3 - Wanna play Darts? <a class=\"anchor\" id=\"wanna-play-darts\"></a>\n",
    "\n",
    "<img src=\"https://upload.wikimedia.org/wikipedia/commons/f/f3/Dartboard_unlabeled.svg\" width=\"150\" height=\"150\" />\n",
    "\n",
    "\n",
    "Once upon a time, in a faraway land...    \n",
    "    \n",
    "Jim walked into a bustling pub, seeking a night of fun. Drawn to the dartboard, he joined the game, aiming his darts with excitement. Amidst his throws, he saw that the scattered hits and misses resembled random points within a square and a unit circle. Jim's mind sparked an idea—what if the dart game could estimate $\\pi$? Intrigued, he decided to test the theory, tallying the dart hits inside the circle.\n",
    "\n",
    "### Learning Outcome \n",
    "This task aims to explore a fascinating way of estimating the mathematical constant $\\pi$ using a dart game analogy. You will delve into random points within a square and a unit circle, visualized through a dartboard scenario. Through this task, you will gain insights into probability, Monte Carlo simulations, the relationship between the dart hits inside the circle, and the estimation of $\\pi$. By the end of this task, you will have a deeper appreciation for the connection between geometry and probability and the intriguing ways mathematical constants can be approximated in real-world scenarios."
   ]
  },
  {
   "cell_type": "markdown",
   "metadata": {},
   "source": [
    "## Estimating $\\pi$ <a class=\"anchor\" id=\"estimating-pi\"></a>\n",
    "\n",
    "In this task, you will help Jim to estimating the value of $\\pi$ by using the analogy of throwing darts. Use Numpy to complete this task. Here we assume that the dart hits are spread uniformly across the square region which encapsulates the circle darts board. The following figure shows 10 randomly sampled points\n",
    "\n",
    "<img src=\"https://miro.medium.com/max/803/0*oWmkwPg771ISI_aW\" width=\"300\" height=\"300\" />\n",
    "\n",
    "You can read this article to get a better understanding of what is happening: https://www.cantorsparadise.com/calculating-the-value-of-pi-using-random-numbers-a-monte-carlo-simulation-d4b80dc12bdf"
   ]
  },
  {
   "cell_type": "markdown",
   "metadata": {},
   "source": [
    "#### (a) Follow the below instructions to estimate $\\pi.$\n",
    "- Generate random uniform samples between the values of \\[0,1) in 2 dimensions\n",
    "- Next, compute L2 norm (ie. euclidean distance from origin) of every datapoint in the 2 dimensions\n",
    "- Compute the probablity that a given point lies within the unit circle\n",
    "- That probability equals a quarter area of the circle"
   ]
  },
  {
   "cell_type": "code",
   "execution_count": 174,
   "metadata": {},
   "outputs": [
    {
     "name": "stdout",
     "output_type": "stream",
     "text": [
      "[[-2.67833863e-01 -4.66323488e-02]\n",
      " [-4.65712651e-01  6.93199379e-01]\n",
      " [-1.21681023e-01  9.15641276e-01]\n",
      " ...\n",
      " [-4.60308620e-01  5.52841618e-05]\n",
      " [-2.41539852e-01  2.44441578e-02]\n",
      " [ 3.36132736e-01 -4.84675487e-01]]\n",
      "Estimated Pi:3.157\n"
     ]
    }
   ],
   "source": [
    "# T3a IMPORTANT: Please do not edit/remove this comment.\n",
    "\n",
    "## Intiialise variables \n",
    "dim = 2 \n",
    "nSamples = int(1e4) \n",
    "\n",
    "# Apply uniform sampling via the np.random.uniform function. Save it in the variable X\n",
    "# Make sure to read the numpy documentation to see how it is used\n",
    "X = np.random.uniform(-1,1,(nSamples,dim))\n",
    "print(X)\n",
    "\n",
    "## Normalise it in L2 norm (ie. Calculate euclidean distance)\n",
    "norm_X = np.linalg.norm(X, axis=1)\n",
    "\n",
    "## Calculate the probability of the points being a radius of 1 away from the centre\n",
    "n_inlines = np.sum(norm_X < 1)\n",
    "prob = n_inlines / nSamples\n",
    "\n",
    "area = prob ## Area of one quarter of a circle is the same as the probability that we have randomly sampled from\n",
    "est_pi = 4 * area\n",
    "\n",
    "print(f\"Estimated Pi:{est_pi:.3f}\")"
   ]
  },
  {
   "cell_type": "markdown",
   "metadata": {},
   "source": [
    "#### Now, we can derive the equation for $\\pi$ based off the following formula"
   ]
  },
  {
   "cell_type": "markdown",
   "metadata": {},
   "source": [
    "  \n",
    "The equation below demonstrates how $\\pi$ can be calculated\n",
    "\n",
    "\\begin{align*}\n",
    "\\frac{(\\pi r^2)}{4} = \\text{Area} \\\\\n",
    "\\pi = \\frac{4 * \\text{Area}}{r^2} \\\\\n",
    "\\pi = 4 * \\text{Area} \\\\\n",
    "\\end{align*}\n",
    "\n",
    "Where _area_ is the quantity calculated above."
   ]
  },
  {
   "cell_type": "markdown",
   "metadata": {},
   "source": [
    "#### (b) Evaluate the formula and find $\\pi.$"
   ]
  },
  {
   "cell_type": "code",
   "execution_count": 175,
   "metadata": {},
   "outputs": [
    {
     "name": "stdout",
     "output_type": "stream",
     "text": [
      "Estimated Pi: 3.157\n"
     ]
    }
   ],
   "source": [
    "# T3b IMPORTANT: Please do not edit/remove this comment.\n",
    "\n",
    "est_pi = 4 * area\n",
    "print(f\"Estimated Pi: {est_pi:.3f}\")"
   ]
  },
  {
   "cell_type": "markdown",
   "metadata": {},
   "source": [
    "<div class=\"alert alert-block alert-success\">\n",
    "\n",
    "#### Reflection\n",
    "\n",
    "##### Have a think of the following question and answer them in the quiz.\n",
    "1. Is the estimate of $\\pi$ close to the actual value? Why/why not?\n",
    "2. What could be potential influences? how can you improve your estimation of $\\pi$?\n",
    "3. Will it work if you used a normal distribution instead of a uniform distribution?"
   ]
  },
  {
   "cell_type": "markdown",
   "metadata": {},
   "source": [
    "<div class=\"alert alert-block alert-info\">\n",
    "\n",
    "## Task 4 - Thinking inside the Ball! <a class=\"anchor\" id=\"thinking-inside-the-ball\"></a>\n",
    "\n",
    "<img src=\"https://upload.wikimedia.org/wikipedia/commons/thumb/0/08/Sphere_wireframe.svg/220px-Sphere_wireframe.svg.png\" width=\"150\" height=\"150\" />\n",
    "\n",
    "N-dimensional balls, also known as n-balls, extend the concept of spheres into higher dimensions. They represent perfectly round objects in spaces with any number of dimensions (in mathematical sense, objects with constant positive curvature). Just like a three-dimensional sphere is a perfectly round object, an n-ball retains this characteristic in n-dimensional space. The n-ball is defined by its center point and a radius, which determines the distance from the center to any point on its surface. While it may be challenging to visualize n-balls beyond three dimensions, their study is crucial in mathematics, physics, and computer science, enabling us to understand and analyze complex phenomena in higher-dimensional spaces. In deep learning, it helps in understanding high-dimensional data distributions and defining search spaces.\n",
    "\n",
    "### Learning Outcome\n",
    "This task introduces you to n-dimensional balls, also known as n-balls, and their significance in higher-dimensional spaces. Through this task, you will understand how n-balls extend the idea of spheres to spaces with any dimensions, retaining their perfectly round characteristics. You will explore the definition of n-balls, consisting of a center point and a radius, determining the distance from the center to any point on its surface. "
   ]
  },
  {
   "cell_type": "markdown",
   "metadata": {},
   "source": [
    "## Calculating the volume of an N-dimensional ball <a class=\"anchor\" id=\"calc-n-dim-ball\"></a>\n",
    "\n",
    "In this task, we want to estimate and calculate the volume of an N-dimensional ball of radius one and discuss the implications of scaling to a higher dimensional space. Use Numpy and matplotplib to complete this task.\n",
    "\n",
    "- For a 2-dimensional ball (circle), the volume is by $\\pi r^2$\n",
    "\n",
    "- For a 3-dimensional ball (sphere), the volume is given by $\\frac{4 \\pi r^3}{3}$\n",
    "\n",
    "- For an n-dimensional ball, the volume is given by $V_n(r) = \\frac{\\pi ^ \\frac{n}{2}}{\\Gamma(\\frac{n}{2} + 1)}r^n$\n",
    "\n",
    "$\\Gamma$ is called _gamma_ and it is analagous to factorials but across the continuous domain. In this case, we are using it for calculus to calculate the volume of an N-dimensional ball. You can simply use the _gamma()_ function directly (we have imported this for you) in order to calculate the volume of an N-dimensional ball. Feel free to read more here with regards to N-dimensional balls: https://en.wikipedia.org/wiki/Volume_of_an_n-ball"
   ]
  },
  {
   "cell_type": "markdown",
   "metadata": {},
   "source": [
    "#### (a) Follow the instructions below to estimate the volume of an N-dimensional ball.\n",
    "\n",
    "- For dimensions from 2 to 50, estimate the volume of an N-dimensional ball (similar to Task 3). You can do this by taking the probability of a point being inside the N-dimensional ball of radius 1 by sampling between \\[0,1) across the N-dimensions and calculating its Euclidean distance. Afterwards, you can calculate the volume by doing 2^N * (fraction of points within unit circle in high dimensional space)."
   ]
  },
  {
   "cell_type": "code",
   "execution_count": 176,
   "metadata": {},
   "outputs": [
    {
     "name": "stdout",
     "output_type": "stream",
     "text": [
      "Estimated Volume for 2 dimensions: 3.14074\n",
      "Estimated Volume for 3 dimensions: 4.19022\n",
      "Estimated Volume for 4 dimensions: 4.93550\n",
      "Estimated Volume for 5 dimensions: 5.26531\n",
      "Estimated Volume for 6 dimensions: 5.18848\n",
      "Estimated Volume for 7 dimensions: 4.74189\n",
      "Estimated Volume for 8 dimensions: 3.99258\n",
      "Estimated Volume for 9 dimensions: 3.29984\n",
      "Estimated Volume for 10 dimensions: 2.56307\n",
      "Estimated Volume for 11 dimensions: 1.96813\n",
      "Estimated Volume for 12 dimensions: 1.25747\n",
      "Estimated Volume for 13 dimensions: 0.92570\n",
      "Estimated Volume for 14 dimensions: 0.80282\n",
      "Estimated Volume for 15 dimensions: 0.45875\n",
      "Estimated Volume for 16 dimensions: 0.45875\n",
      "Estimated Volume for 17 dimensions: 0.00000\n",
      "Estimated Volume for 18 dimensions: 0.00000\n",
      "Estimated Volume for 19 dimensions: 0.00000\n",
      "Estimated Volume for 20 dimensions: 0.00000\n",
      "Estimated Volume for 21 dimensions: 0.00000\n",
      "Estimated Volume for 22 dimensions: 0.00000\n",
      "Estimated Volume for 23 dimensions: 0.00000\n",
      "Estimated Volume for 24 dimensions: 0.00000\n",
      "Estimated Volume for 25 dimensions: 0.00000\n",
      "Estimated Volume for 26 dimensions: 0.00000\n",
      "Estimated Volume for 27 dimensions: 0.00000\n",
      "Estimated Volume for 28 dimensions: 0.00000\n",
      "Estimated Volume for 29 dimensions: 0.00000\n",
      "Estimated Volume for 30 dimensions: 0.00000\n",
      "Estimated Volume for 31 dimensions: 0.00000\n",
      "Estimated Volume for 32 dimensions: 0.00000\n",
      "Estimated Volume for 33 dimensions: 0.00000\n",
      "Estimated Volume for 34 dimensions: 0.00000\n",
      "Estimated Volume for 35 dimensions: 0.00000\n",
      "Estimated Volume for 36 dimensions: 0.00000\n",
      "Estimated Volume for 37 dimensions: 0.00000\n",
      "Estimated Volume for 38 dimensions: 0.00000\n",
      "Estimated Volume for 39 dimensions: 0.00000\n",
      "Estimated Volume for 40 dimensions: 0.00000\n",
      "Estimated Volume for 41 dimensions: 0.00000\n",
      "Estimated Volume for 42 dimensions: 0.00000\n",
      "Estimated Volume for 43 dimensions: 0.00000\n",
      "Estimated Volume for 44 dimensions: 0.00000\n",
      "Estimated Volume for 45 dimensions: 0.00000\n",
      "Estimated Volume for 46 dimensions: 0.00000\n",
      "Estimated Volume for 47 dimensions: 0.00000\n",
      "Estimated Volume for 48 dimensions: 0.00000\n",
      "Estimated Volume for 49 dimensions: 0.00000\n",
      "Estimated Volume for 50 dimensions: 0.00000\n"
     ]
    }
   ],
   "source": [
    "# T4a IMPORTANT: Please do not edit/remove this comment.\n",
    "\n",
    "# Initialise variables\n",
    "first_dim = 2\n",
    "last_dim = 50\n",
    "\n",
    "# nSamples is the number of samples that we will use to estimate the volume of an N-dimensional ball\n",
    "# You can initally decrase this while writing your code\n",
    "# but note having too small of a sample size for higher dimension might yield incorrect results\n",
    "# so it is recommended you use at least 10^6 amount of samples in your final discussion\n",
    "nSamples = int(1e6)\n",
    "\n",
    "# Calculate the estimated volumes by random sampling\n",
    "# It is recommended to save each result within a list or a numpy array for plotting later\n",
    "est_vol = []\n",
    "\n",
    "for dim in range(first_dim, last_dim+1):\n",
    "\n",
    "    # generate between 0 to 1 uniformly\n",
    "    X = np.random.uniform(0,1,(nSamples,dim))\n",
    "\n",
    "    # find euclidean\n",
    "    norm_X = np.linalg.norm(X, axis=1)\n",
    "\n",
    "    # number of points within the radius 1\n",
    "    n_inlines = np.sum(norm_X <= 1)\n",
    "\n",
    "    # calculate the probability\n",
    "    prob = n_inlines / nSamples\n",
    "    vol = (2**dim)* prob\n",
    "    est_vol.append(vol)\n",
    "    print(f\"Estimated Volume for {dim} dimensions: {vol:.5f}\")\n",
    "\n",
    "# print(est_vol)"
   ]
  },
  {
   "cell_type": "markdown",
   "metadata": {},
   "source": [
    "#### (b) Calculate the actual volume of an N-dimensional ball with radius 1 using the equation given before."
   ]
  },
  {
   "cell_type": "code",
   "execution_count": 177,
   "metadata": {},
   "outputs": [
    {
     "name": "stdout",
     "output_type": "stream",
     "text": [
      "Actual Volume for 2 dimensions: 3.14159\n",
      "Actual Volume for 3 dimensions: 4.18879\n",
      "Actual Volume for 4 dimensions: 4.93480\n",
      "Actual Volume for 5 dimensions: 5.26379\n",
      "Actual Volume for 6 dimensions: 5.16771\n",
      "Actual Volume for 7 dimensions: 4.72477\n",
      "Actual Volume for 8 dimensions: 4.05871\n",
      "Actual Volume for 9 dimensions: 3.29851\n",
      "Actual Volume for 10 dimensions: 2.55016\n",
      "Actual Volume for 11 dimensions: 1.88410\n",
      "Actual Volume for 12 dimensions: 1.33526\n",
      "Actual Volume for 13 dimensions: 0.91063\n",
      "Actual Volume for 14 dimensions: 0.59926\n",
      "Actual Volume for 15 dimensions: 0.38144\n",
      "Actual Volume for 16 dimensions: 0.23533\n",
      "Actual Volume for 17 dimensions: 0.14098\n",
      "Actual Volume for 18 dimensions: 0.08215\n",
      "Actual Volume for 19 dimensions: 0.04662\n",
      "Actual Volume for 20 dimensions: 0.02581\n",
      "Actual Volume for 21 dimensions: 0.01395\n",
      "Actual Volume for 22 dimensions: 0.00737\n",
      "Actual Volume for 23 dimensions: 0.00381\n",
      "Actual Volume for 24 dimensions: 0.00193\n",
      "Actual Volume for 25 dimensions: 0.00096\n",
      "Actual Volume for 26 dimensions: 0.00047\n",
      "Actual Volume for 27 dimensions: 0.00022\n",
      "Actual Volume for 28 dimensions: 0.00010\n",
      "Actual Volume for 29 dimensions: 0.00005\n",
      "Actual Volume for 30 dimensions: 0.00002\n",
      "Actual Volume for 31 dimensions: 0.00001\n",
      "Actual Volume for 32 dimensions: 0.00000\n",
      "Actual Volume for 33 dimensions: 0.00000\n",
      "Actual Volume for 34 dimensions: 0.00000\n",
      "Actual Volume for 35 dimensions: 0.00000\n",
      "Actual Volume for 36 dimensions: 0.00000\n",
      "Actual Volume for 37 dimensions: 0.00000\n",
      "Actual Volume for 38 dimensions: 0.00000\n",
      "Actual Volume for 39 dimensions: 0.00000\n",
      "Actual Volume for 40 dimensions: 0.00000\n",
      "Actual Volume for 41 dimensions: 0.00000\n",
      "Actual Volume for 42 dimensions: 0.00000\n",
      "Actual Volume for 43 dimensions: 0.00000\n",
      "Actual Volume for 44 dimensions: 0.00000\n",
      "Actual Volume for 45 dimensions: 0.00000\n",
      "Actual Volume for 46 dimensions: 0.00000\n",
      "Actual Volume for 47 dimensions: 0.00000\n",
      "Actual Volume for 48 dimensions: 0.00000\n",
      "Actual Volume for 49 dimensions: 0.00000\n",
      "Actual Volume for 50 dimensions: 0.00000\n",
      "[np.float64(3.141592653589793), np.float64(4.188790204786391), np.float64(4.934802200544679), np.float64(5.263789013914324), np.float64(5.167712780049969), np.float64(4.724765970331401), np.float64(4.058712126416768), np.float64(3.2985089027387064), np.float64(2.550164039877345), np.float64(1.8841038793898999), np.float64(1.3352627688545893), np.float64(0.9106287547832829), np.float64(0.5992645293207919), np.float64(0.38144328082330436), np.float64(0.23533063035889312), np.float64(0.140981106917139), np.float64(0.08214588661112819), np.float64(0.04662160103008853), np.float64(0.02580689139001405), np.float64(0.013949150409020993), np.float64(0.007370430945714348), np.float64(0.003810656386852123), np.float64(0.001929574309403922), np.float64(0.0009577224088231723), np.float64(0.00046630280576761234), np.float64(0.000222872124721274), np.float64(0.00010463810492484565), np.float64(4.8287822738917413e-05), np.float64(2.1915353447830204e-05), np.float64(9.787139946737361e-06), np.float64(4.303069587032944e-06), np.float64(1.8634670882621386e-06), np.float64(7.952054001475508e-07), np.float64(3.345288294108971e-07), np.float64(1.387895246221376e-07), np.float64(5.6808287183311744e-08), np.float64(2.2948428997269856e-08), np.float64(9.152230650159558e-09), np.float64(3.6047307974624982e-09), np.float64(1.4025649060731998e-09), np.float64(5.392664662608125e-10), np.float64(2.049436095396476e-10), np.float64(7.700707130601346e-11), np.float64(2.8615526139108097e-11), np.float64(1.0518471716932054e-11), np.float64(3.825460710520368e-12), np.float64(1.3768647280377402e-12), np.float64(4.905322148884562e-13), np.float64(1.7302192458361092e-13)]\n"
     ]
    }
   ],
   "source": [
    "# T4b IMPORTANT: Please do not edit/remove this comment.\n",
    "\n",
    "# We have imported the gamma function for you. You can use that straight away\n",
    "act_vol = []\n",
    "for dim in range(first_dim, last_dim+1):\n",
    "    act_vol.append((np.pi ** (dim / 2)) / gamma((dim / 2) + 1))\n",
    "    print(f\"Actual Volume for {dim} dimensions: {act_vol[-1]:.5f}\")\n",
    "\n",
    "print(act_vol)"
   ]
  },
  {
   "cell_type": "markdown",
   "metadata": {},
   "source": [
    "#### (c) Compare estimated and actual volumes by plotting them together"
   ]
  },
  {
   "cell_type": "code",
   "execution_count": 178,
   "metadata": {},
   "outputs": [
    {
     "data": {
      "image/png": "[encoded data removed]",
      "text/plain": [
       "<Figure size 1000x500 with 1 Axes>"
      ]
     },
     "metadata": {},
     "output_type": "display_data"
    }
   ],
   "source": [
    "# T4c IMPORTANT: Please do not edit/remove this comment.\n",
    "\n",
    "plt.figure(figsize=(10, 5))\n",
    "plt.plot(range(first_dim, last_dim + 1), est_vol, label='Estimated Volume', color='blue', linestyle='-', marker='o')\n",
    "plt.plot(range(first_dim, last_dim + 1), act_vol, label='Actual Volume', color='red', linestyle='--', marker='s')\n",
    "plt.title('Estimated vs Actual Volume of N-Dimensional Ball')  # set a title for the plot\n",
    "plt.ylabel('Volume')  # set y label for the plot\n",
    "plt.xlabel('Dimensions') # set x label for the plot\n",
    "plt.legend() # set legend for the plot\n",
    "plt.show()  # show the plot"
   ]
  },
  {
   "cell_type": "markdown",
   "metadata": {},
   "source": [
    "<div class=\"alert alert-block alert-success\">\n",
    "\n",
    "#### Reflection\n",
    "\n",
    "Interpret the actual volume and see if there is anything unexpected, especially for higher dimensions."
   ]
  },
  {
   "cell_type": "markdown",
   "metadata": {},
   "source": [
    "<div class=\"alert alert-block alert-danger\">\n",
    "\n",
    "# <p style=\"text-align: center;\">The End</p>\n"
   ]
  }
 ],
 "metadata": {
  "kernelspec": {
   "display_name": "venv",
   "language": "python",
   "name": "python3"
  },
  "language_info": {
   "codemirror_mode": {
    "name": "ipython",
    "version": 3
   },
   "file_extension": ".py",
   "mimetype": "text/x-python",
   "name": "python",
   "nbconvert_exporter": "python",
   "pygments_lexer": "ipython3",
   "version": "3.12.9"
  }
 },
 "nbformat": 4,
 "nbformat_minor": 2
}
